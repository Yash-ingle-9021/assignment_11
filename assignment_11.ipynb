{
 "cells": [
  {
   "cell_type": "code",
   "execution_count": 1,
   "metadata": {},
   "outputs": [
    {
     "name": "stdout",
     "output_type": "stream",
     "text": [
      "* ASSIGNMENT_11 *\n"
     ]
    }
   ],
   "source": [
    "print(\"* ASSIGNMENT_11 *\")"
   ]
  },
  {
   "cell_type": "code",
   "execution_count": 1,
   "metadata": {},
   "outputs": [
    {
     "name": "stdout",
     "output_type": "stream",
     "text": [
      "Q_1_ANS :- Exception :- Error in Python can be of two types i.e. Syntax errors and Exceptions. Errors are problems in a program due to which the program will stop the execution. On the other hand, exceptions are raised when some internal events occur which change the normal flow of the program.\n",
      "Different types of exceptions in python:\n",
      "1. SyntaxError\n",
      "2. TypeError\n",
      "3. ImportError\n",
      "4. NameError\n",
      "5. ZeroDivisionError\n",
      "6. IndexError\n",
      "7. KeyError\n",
      "8. ValueError\n",
      "9. IOError\n",
      "These are just a few examples of the many types of exceptions that can occur in Python. It’s important to handle exceptions properly in your code using try-except blocks or other error-handling techniques, in order to gracefully handle errors and prevent the program from crashing.\n",
      "Difference between Syntax error and Exception:\n",
      "Syntax Error: As the name suggests this error is caused by the wrong syntax in the code. It leads to the termination of the program.\n",
      "Exceptions: Exceptions are raised when the program is syntactically correct, but the code results in an error. This error does not stop the execution of the program, however, it changes the normal flow of the program. \n"
     ]
    }
   ],
   "source": [
    "print('Q_1_ANS :- Exception :- Error in Python can be of two types i.e. Syntax errors and Exceptions. Errors are problems in a program due to which the program will stop the execution. On the other hand, exceptions are raised when some internal events occur which change the normal flow of the program.\\nDifferent types of exceptions in python:\\n1. SyntaxError\\n2. TypeError\\n3. ImportError\\n4. NameError\\n5. ZeroDivisionError\\n6. IndexError\\n7. KeyError\\n8. ValueError\\n9. IOError\\nThese are just a few examples of the many types of exceptions that can occur in Python. It’s important to handle exceptions properly in your code using try-except blocks or other error-handling techniques, in order to gracefully handle errors and prevent the program from crashing.\\nDifference between Syntax error and Exception:\\nSyntax Error: As the name suggests this error is caused by the wrong syntax in the code. It leads to the termination of the program.\\nExceptions: Exceptions are raised when the program is syntactically correct, but the code results in an error. This error does not stop the execution of the program, however, it changes the normal flow of the program. ')"
   ]
  },
  {
   "cell_type": "code",
   "execution_count": 2,
   "metadata": {},
   "outputs": [
    {
     "name": "stdout",
     "output_type": "stream",
     "text": [
      "Q_2_ANS :- If the exception is not handled by an except clause, the exception is re-raised after the finally clause has been executed.\n",
      "EX :- \n"
     ]
    },
    {
     "data": {
      "text/plain": [
       "False"
      ]
     },
     "execution_count": 2,
     "metadata": {},
     "output_type": "execute_result"
    }
   ],
   "source": [
    "print('Q_2_ANS :- If the exception is not handled by an except clause, the exception is re-raised after the finally clause has been executed.')\n",
    "print(\"EX :- \")\n",
    "\n",
    "def bool_return():\n",
    "    try:\n",
    "        return True\n",
    "    finally:\n",
    "        return False\n",
    "\n",
    "bool_return()\n",
    "False"
   ]
  },
  {
   "cell_type": "code",
   "execution_count": 3,
   "metadata": {},
   "outputs": [
    {
     "name": "stdout",
     "output_type": "stream",
     "text": [
      "Q_3_ANS :- Try and except statements are used to catch and handle exceptions in Python. Statements that can raise exceptions are kept inside the try clause and the statements that handle the exception are written inside except clause. \n",
      "EX :- \n",
      "ZeroDivisionError Occurred and Handled\n"
     ]
    }
   ],
   "source": [
    "print('Q_3_ANS :- Try and except statements are used to catch and handle exceptions in Python. Statements that can raise exceptions are kept inside the try clause and the statements that handle the exception are written inside except clause. ')\n",
    "print(\"EX :- \")\n",
    "\n",
    "\n",
    "def fun(a):\n",
    "\tif a < 4:\n",
    "\t\tb = a/(a-3)\n",
    "\n",
    "\tprint(\"Value of b = \", b)\n",
    "\t\n",
    "try:\n",
    "\tfun(3)\n",
    "\tfun(5)\n",
    "\n",
    "except ZeroDivisionError:\n",
    "\tprint(\"ZeroDivisionError Occurred and Handled\")\n",
    "except NameError:\n",
    "\tprint(\"NameError Occurred and Handled\")\n"
   ]
  },
  {
   "cell_type": "code",
   "execution_count": 4,
   "metadata": {},
   "outputs": [
    {
     "name": "stdout",
     "output_type": "stream",
     "text": [
      "Q_4_ANS :- Explain with an example : \n",
      "EX_1 :- try and else\n",
      "-5.0\n",
      "a/b result in 0\n",
      "EX_2 :- finally\n",
      "Can't divide by zero\n",
      "This is always executed\n",
      "EX_3 :- raise\n",
      "An exception\n"
     ]
    },
    {
     "ename": "NameError",
     "evalue": "Hi there",
     "output_type": "error",
     "traceback": [
      "\u001b[1;31m---------------------------------------------------------------------------\u001b[0m",
      "\u001b[1;31mNameError\u001b[0m                                 Traceback (most recent call last)",
      "\u001b[1;32mc:\\Users\\Raju\\OneDrive\\Desktop\\D_S_M\\jupyter\\assignment_11.ipynb Cell 5\u001b[0m in \u001b[0;36m<module>\u001b[1;34m\u001b[0m\n\u001b[0;32m     <a href='vscode-notebook-cell:/c%3A/Users/Raju/OneDrive/Desktop/D_S_M/jupyter/assignment_11.ipynb#W4sZmlsZQ%3D%3D?line=26'>27</a>\u001b[0m \u001b[39mprint\u001b[39m(\u001b[39m\"\u001b[39m\u001b[39mEX_3 :- raise\u001b[39m\u001b[39m\"\u001b[39m)\n\u001b[0;32m     <a href='vscode-notebook-cell:/c%3A/Users/Raju/OneDrive/Desktop/D_S_M/jupyter/assignment_11.ipynb#W4sZmlsZQ%3D%3D?line=28'>29</a>\u001b[0m \u001b[39mtry\u001b[39;00m:\n\u001b[1;32m---> <a href='vscode-notebook-cell:/c%3A/Users/Raju/OneDrive/Desktop/D_S_M/jupyter/assignment_11.ipynb#W4sZmlsZQ%3D%3D?line=29'>30</a>\u001b[0m \t\u001b[39mraise\u001b[39;00m \u001b[39mNameError\u001b[39;00m(\u001b[39m\"\u001b[39m\u001b[39mHi there\u001b[39m\u001b[39m\"\u001b[39m) \n\u001b[0;32m     <a href='vscode-notebook-cell:/c%3A/Users/Raju/OneDrive/Desktop/D_S_M/jupyter/assignment_11.ipynb#W4sZmlsZQ%3D%3D?line=30'>31</a>\u001b[0m \u001b[39mexcept\u001b[39;00m \u001b[39mNameError\u001b[39;00m:\n\u001b[0;32m     <a href='vscode-notebook-cell:/c%3A/Users/Raju/OneDrive/Desktop/D_S_M/jupyter/assignment_11.ipynb#W4sZmlsZQ%3D%3D?line=31'>32</a>\u001b[0m \t\u001b[39mprint\u001b[39m (\u001b[39m\"\u001b[39m\u001b[39mAn exception\u001b[39m\u001b[39m\"\u001b[39m)\n",
      "\u001b[1;31mNameError\u001b[0m: Hi there"
     ]
    }
   ],
   "source": [
    "print('Q_4_ANS :- Explain with an example : ')\n",
    "print(\"EX_1 :- try and else\")\n",
    "\n",
    "def AbyB(a , b):\n",
    "\ttry:\n",
    "\t\tc = ((a+b) / (a-b))\n",
    "\texcept ZeroDivisionError:\n",
    "\t\tprint (\"a/b result in 0\")\n",
    "\telse:\n",
    "\t\tprint (c)\n",
    "\n",
    "AbyB(2.0, 3.0)\n",
    "AbyB(3.0, 3.0)\n",
    "\n",
    "print(\"EX_2 :- finally\")\n",
    "\n",
    "try:\n",
    "\tk = 5//0 \n",
    "\tprint(k)\n",
    "\n",
    "except ZeroDivisionError:\n",
    "\tprint(\"Can't divide by zero\")\n",
    "\n",
    "finally:\n",
    "\tprint('This is always executed')\n",
    "\t\n",
    "print(\"EX_3 :- raise\")\n",
    "\n",
    "try:\n",
    "\traise NameError(\"Hi there\") \n",
    "except NameError:\n",
    "\tprint (\"An exception\")\n",
    "\traise \n",
    "\n"
   ]
  },
  {
   "cell_type": "code",
   "execution_count": 5,
   "metadata": {},
   "outputs": [
    {
     "name": "stdout",
     "output_type": "stream",
     "text": [
      "Q_5_ANS :- Custom Exception :- Exceptions need to be derived from the Exception class, either directly or indirectly. Although not mandatory, most of the exceptions are named as names that end in “Error” similar to the naming of the standard exceptions in python.\n",
      "Need of Custom Exception :- Built-in exceptions offer information about Python-related problems, and custom exceptions will add information about project-related problems. That way, you can design your code (and traceback, if an exception is raised) in a way that combines Python code with the language of the project. \n",
      "EX :- \n",
      "A New Exception occurred:  10\n"
     ]
    }
   ],
   "source": [
    "print('Q_5_ANS :- Custom Exception :- Exceptions need to be derived from the Exception class, either directly or indirectly. Although not mandatory, most of the exceptions are named as names that end in “Error” similar to the naming of the standard exceptions in python.\\nNeed of Custom Exception :- Built-in exceptions offer information about Python-related problems, and custom exceptions will add information about project-related problems. That way, you can design your code (and traceback, if an exception is raised) in a way that combines Python code with the language of the project. ')\n",
    "print(\"EX :- \")\n",
    "\n",
    "class MyError(Exception):\n",
    "\n",
    "\tdef __init__(self, value):\n",
    "\t\tself.value = value\n",
    "\n",
    "\tdef __str__(self):\n",
    "\t\treturn(repr(self.value))\n",
    "\n",
    "try:\n",
    "\traise(MyError(5*2))\n",
    "\n",
    "except MyError as error:\n",
    "\tprint('A New Exception occurred: ', error.value)\n"
   ]
  },
  {
   "cell_type": "code",
   "execution_count": 15,
   "metadata": {},
   "outputs": [
    {
     "name": "stdout",
     "output_type": "stream",
     "text": [
      "Q_6_ANS :-  \n",
      "Input value is zero, try again!\n",
      "\n"
     ]
    }
   ],
   "source": [
    "print('Q_6_ANS :-  ')\n",
    "\n",
    "class Error(Exception):\n",
    "\t\n",
    "\tpass\n",
    "\n",
    "class zerodivision(Error):\n",
    "\tpass\n",
    "\n",
    "    \n",
    "try:\n",
    "\ti_num = int(input(\"Enter a number: \"))\n",
    "\tif i_num == 0:\n",
    "\t\traise zerodivision\n",
    "except zerodivision:\n",
    "\tprint(\"Input value is zero, try again!\")\n",
    "\tprint()\n",
    "\t"
   ]
  },
  {
   "cell_type": "code",
   "execution_count": null,
   "metadata": {},
   "outputs": [],
   "source": []
  }
 ],
 "metadata": {
  "kernelspec": {
   "display_name": "Python 3",
   "language": "python",
   "name": "python3"
  },
  "language_info": {
   "codemirror_mode": {
    "name": "ipython",
    "version": 3
   },
   "file_extension": ".py",
   "mimetype": "text/x-python",
   "name": "python",
   "nbconvert_exporter": "python",
   "pygments_lexer": "ipython3",
   "version": "3.10.0"
  },
  "orig_nbformat": 4
 },
 "nbformat": 4,
 "nbformat_minor": 2
}
